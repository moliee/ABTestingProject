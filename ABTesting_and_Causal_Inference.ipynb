{
  "nbformat": 4,
  "nbformat_minor": 0,
  "metadata": {
    "colab": {
      "provenance": [],
      "authorship_tag": "ABX9TyOCCRUG1A/nZg0wiybqMHw+",
      "include_colab_link": true
    },
    "kernelspec": {
      "name": "python3",
      "display_name": "Python 3"
    },
    "language_info": {
      "name": "python"
    }
  },
  "cells": [
    {
      "cell_type": "markdown",
      "metadata": {
        "id": "view-in-github",
        "colab_type": "text"
      },
      "source": [
        "<a href=\"https://colab.research.google.com/github/moliee/ABTestingProject/blob/main/ABTesting_and_Causal_Inference.ipynb\" target=\"_parent\"><img src=\"https://colab.research.google.com/assets/colab-badge.svg\" alt=\"Open In Colab\"/></a>"
      ]
    },
    {
      "cell_type": "markdown",
      "source": [
        "\n",
        "<h2> <b> Udacity Course Completion Experiment </b> </h2>\n",
        "\n",
        "This project analyzes an experiment conducted by Udacity to maximize course completion rates.\n",
        "\n",
        "The data for this project was obtained as part of the final project from the Udacity A/B Testing course."
      ],
      "metadata": {
        "id": "VFiLSpjLQwbG"
      }
    },
    {
      "cell_type": "markdown",
      "source": [
        "# Overview of the Experiment\n",
        "\n",
        "\n",
        "---\n",
        "\n",
        "\n",
        "\n",
        "\n",
        "At the time of this experiment, Udacity offers two options on the course overview page:\n",
        "<h4>\n",
        "<li> Option 1: Start Free Trial </li>\n",
        "<li> Option 2: Access Course Materials </li>\n",
        "</h4>\n",
        "The overall goal of the experiment is to maximize course completion by users.\n",
        "\n",
        "#Current Conditions\n",
        "\n",
        "\n",
        "---\n",
        "\n",
        "\n",
        "\n",
        "<li> When \"Option 1\" is selected, user will be asked to provide credit card information, and then they will be enrolled in the Free Trial for the paid version of a course. After 14 days, they will be charged unless they cancel first. </li>\n",
        "\n",
        "<li> When \"Option 2\" is selected, the user will be able to view videos and quizzes for free, but they won't receive coaching or a. verified certification and they will not be able to submit their final project. </li>\n",
        "\n",
        "#Description of Experimented Change\n",
        "\n",
        "\n",
        "---\n",
        "\n",
        "\n",
        "\n",
        "<li> Udacity tested a change such that users who clicked \"Option 1 (i.e., Start Free Trial)\" were asked how much time they were able to dedicate to the course. </li>\n",
        "\n",
        "<li> if user selects >= 5 hours per week, the check out process would be conducted as usual. </li>\n",
        "\n",
        "<li> if user selects < 5 hours per week, they are informed that Udacity courses usually require a higher time commitment for successful completion of a course, and that the user might like to access the course materials for free. </li>\n",
        "\n",
        "<li> At this stage, user would have the option to select either option. </li>\n",
        "\n",
        "\n",
        "#Hypotheses\n",
        "\n",
        "\n",
        "\n",
        "---\n",
        "\n",
        "\n",
        "<h6> The hypothesis was that this might set clearer expectations for users upfront, thus reducing the number of frustrated users who left the free trial because they didn't have enough time—without significantly reducing the number of users to continue past the free trial and eventually complete the course. If this hypothesis held true, Udacity could improve the overall user experience and improve coaches' capacity to support users who are likely to complete the course.</h6>\n",
        "\n",
        "#Experiment Details\n",
        "\n",
        "\n",
        "---\n",
        "\n",
        "<h6> The unit of diversion is a cookie, although if the user enrolls in the free trial, they are tracked by user-id from that point forward. The same user-id cannot enroll in the free trial twice. For users that do not enroll, their user-id is not tracked in the experiment, even if they were signed in when they visited the course overview page. </h6>\n",
        "\n",
        "#Metric Choice\n",
        "\n",
        "\n",
        "---\n",
        "We need two types of metrics for a successful experiment (or at least, a safe one): Invariate and evaluation metrics.\n",
        "\n",
        "<b> <i> <li> Invariate metrics </b> </i> are used for \"sanity checks\", that is, to make sure our experiment (the way we presented a change to a part of the population, as well as the way we collected the data) is not inherently wrong. Basically, this means we pick metrics which we consider not to change (or not to be affected) because of our experiment and later make sure these metrics don't change drastically between our control and experiment groups. </li>\n",
        "\n",
        "<li> <b> <i>Evaluation metrics </b> </i> on the other hand, are the metrics in which we expect to see a change, and are relevant to the business goals we aim to achieve. </li>\n",
        "\n",
        "<li> For each metric we state a  <b> Dmin </b>, which marks the minimum change which is practically significant to the business. </li>\n",
        "\n",
        "<li> <i> For instance </i>, stating that any increase in retention that is under 2%, even if statistically significant, is not practical to the business. </li>\n",
        "\n",
        "\n",
        "\n"
      ],
      "metadata": {
        "id": "GKMOdYfJlFxG"
      }
    },
    {
      "cell_type": "markdown",
      "source": [],
      "metadata": {
        "id": "qCATolEYQs9U"
      }
    },
    {
      "cell_type": "markdown",
      "source": [
        "#Invariate Metrics - Sanity Checks\n",
        "\n",
        "<style type=\"text/css\">\n",
        ".tg  {border-collapse:collapse;border-spacing:0;}\n",
        ".tg td{border-color:black;border-style:solid;border-width:1px;font-family:Arial, sans-serif;font-size:14px;\n",
        "  overflow:hidden;padding:10px 5px;word-break:normal;}\n",
        ".tg th{border-color:black;border-style:solid;border-width:1px;font-family:Arial, sans-serif;font-size:14px;\n",
        "  font-weight:normal;overflow:hidden;padding:10px 5px;word-break:normal;}\n",
        ".tg .tg-8bgf{border-color:inherit;font-style:italic;text-align:center;vertical-align:top}\n",
        ".tg .tg-c3ow{border-color:inherit;text-align:center;vertical-align:top}\n",
        ".tg .tg-7btt{border-color:inherit;font-weight:bold;text-align:center;vertical-align:top}\n",
        "</style>\n",
        "<table class=\"tg\"><thead>\n",
        "  <tr>\n",
        "    <th class=\"tg-7btt\"><span style=\"font-style:inherit\">Metric Name</span></th>\n",
        "    <th class=\"tg-7btt\">Notation</th>\n",
        "    <th class=\"tg-7btt\">Dmin</th>\n",
        "    <th class=\"tg-7btt\">Metric Formula</th>\n",
        "  </tr></thead>\n",
        "<tbody>\n",
        "  <tr>\n",
        "    <td class=\"tg-c3ow\"><span style=\"font-weight:400;font-style:normal\">Number of Cookies in Course Overview Page</span></td>\n",
        "    <td class=\"tg-8bgf\">Ck</td>\n",
        "    <td class=\"tg-c3ow\">3000 cookies</td>\n",
        "    <td class=\"tg-c3ow\">#unique daily cookies on page</td>\n",
        "  </tr>\n",
        "  <tr>\n",
        "    <td class=\"tg-c3ow\"><span style=\"font-weight:400;font-style:normal\">Number of Clicks on Free Trial Button</span></td>\n",
        "    <td class=\"tg-8bgf\">Cl</td>\n",
        "    <td class=\"tg-c3ow\">240 clicks</td>\n",
        "    <td class=\"tg-c3ow\">#unique daily cookies who clicked</td>\n",
        "  </tr>\n",
        "  <tr>\n",
        "    <td class=\"tg-c3ow\"><span style=\"font-weight:400;font-style:normal\">Free Trial button Click-Through-Probability</span></td>\n",
        "    <td class=\"tg-c3ow\">CTP</td>\n",
        "    <td class=\"tg-c3ow\">0.01</td>\n",
        "    <td class=\"tg-c3ow\">Cl/Ck</td>\n",
        "  </tr>\n",
        "</tbody></table>\n",
        "\n",
        "#Evaluation Metrics - Performance Indicators\n",
        "\n",
        "<style type=\"text/css\">\n",
        ".tg  {border-collapse:collapse;border-spacing:0;}\n",
        ".tg td{border-color:black;border-style:solid;border-width:1px;font-family:Arial, sans-serif;font-size:14px;\n",
        "  overflow:hidden;padding:10px 5px;word-break:normal;}\n",
        ".tg th{border-color:black;border-style:solid;border-width:1px;font-family:Arial, sans-serif;font-size:14px;\n",
        "  font-weight:normal;overflow:hidden;padding:10px 5px;word-break:normal;}\n",
        ".tg .tg-8bgf{border-color:inherit;font-style:italic;text-align:center;vertical-align:top}\n",
        ".tg .tg-c3ow{border-color:inherit;text-align:center;vertical-align:top}\n",
        ".tg .tg-7btt{border-color:inherit;font-weight:bold;text-align:center;vertical-align:top}\n",
        "</style>\n",
        "<table class=\"tg\"><thead>\n",
        "  <tr>\n",
        "    <th class=\"tg-7btt\"><span style=\"font-style:inherit\">Metric Name</span></th>\n",
        "    <th class=\"tg-7btt\">Notation</th>\n",
        "    <th class=\"tg-7btt\">Dmin</th>\n",
        "    <th class=\"tg-7btt\">Metric Formula</th>\n",
        "  </tr></thead>\n",
        "<tbody>\n",
        "  <tr>\n",
        "    <td class=\"tg-c3ow\"><span style=\"font-weight:400;font-style:normal\">Gross Conversion</span></td>\n",
        "    <td class=\"tg-8bgf\">Conversion <span style=\"font-style:italic\">gros</span>s</td>\n",
        "    <td class=\"tg-c3ow\">0.01</td>\n",
        "    <td class=\"tg-c3ow\">enrolled / C<span style=\"font-style:italic\">l</span></td>\n",
        "  </tr>\n",
        "  <tr>\n",
        "    <td class=\"tg-c3ow\">Retention</td>\n",
        "    <td class=\"tg-8bgf\">Retention</td>\n",
        "    <td class=\"tg-c3ow\">0.01</td>\n",
        "    <td class=\"tg-c3ow\">paid / enrolled</td>\n",
        "  </tr>\n",
        "  <tr>\n",
        "    <td class=\"tg-c3ow\"><span style=\"font-weight:400;font-style:normal\">Net Conversion</span></td>\n",
        "    <td class=\"tg-c3ow\">Conversion <span style=\"font-style:italic\">Net</span></td>\n",
        "    <td class=\"tg-c3ow\">0.0075</td>\n",
        "    <td class=\"tg-c3ow\">paid / C<span style=\"font-style:italic\">l</span></td>\n",
        "  </tr>\n",
        "</tbody></table>\n",
        "\n",
        "#Rough Estimates of Metrics\n",
        "Udacity provides the following rough estimates about the metrics.\n",
        "\n",
        "<style type=\"text/css\">\n",
        ".tg  {border-collapse:collapse;border-spacing:0;}\n",
        ".tg td{border-color:black;border-style:solid;border-width:1px;font-family:Arial, sans-serif;font-size:14px;\n",
        "  overflow:hidden;padding:10px 5px;word-break:normal;}\n",
        ".tg th{border-color:black;border-style:solid;border-width:1px;font-family:Arial, sans-serif;font-size:14px;\n",
        "  font-weight:normal;overflow:hidden;padding:10px 5px;word-break:normal;}\n",
        ".tg .tg-baqh{text-align:center;vertical-align:top}\n",
        ".tg .tg-amwm{font-weight:bold;text-align:center;vertical-align:top}\n",
        ".tg .tg-5frq{font-style:italic;text-align:center;vertical-align:top}\n",
        "</style>\n",
        "<table class=\"tg\"><thead>\n",
        "  <tr>\n",
        "    <th class=\"tg-amwm\">Item</th>\n",
        "    <th class=\"tg-amwm\">Description</th>\n",
        "    <th class=\"tg-amwm\">Estimator</th>\n",
        "  </tr></thead>\n",
        "<tbody>\n",
        "  <tr>\n",
        "    <td class=\"tg-5frq\">Number of cookies</td>\n",
        "    <td class=\"tg-baqh\"><span style=\"font-weight:400;font-style:normal\">Daily unique cookies to view course overview page</span></td>\n",
        "    <td class=\"tg-baqh\">40,000</td>\n",
        "  </tr>\n",
        "  <tr>\n",
        "    <td class=\"tg-5frq\">Number of clicks</td>\n",
        "    <td class=\"tg-baqh\"><span style=\"font-weight:400;font-style:normal\">Daily unique cookies to click Free Trial button</span></td>\n",
        "    <td class=\"tg-baqh\">3,200</td>\n",
        "  </tr>\n",
        "  <tr>\n",
        "    <td class=\"tg-5frq\">Number of enrollments</td>\n",
        "    <td class=\"tg-baqh\"><span style=\"font-weight:400;font-style:normal\">Free Trial enrollments per day</span></td>\n",
        "    <td class=\"tg-baqh\">660</td>\n",
        "  </tr>\n",
        "  <tr>\n",
        "    <td class=\"tg-5frq\">CTP</td>\n",
        "    <td class=\"tg-baqh\"><span style=\"font-weight:400;font-style:normal\">CTP on Free Trial button</span></td>\n",
        "    <td class=\"tg-baqh\">0.08</td>\n",
        "  </tr>\n",
        "  <tr>\n",
        "    <td class=\"tg-5frq\">Gross Conversion</td>\n",
        "    <td class=\"tg-baqh\"><span style=\"font-weight:400;font-style:normal\">Probability of enrolling, given a click</span></td>\n",
        "    <td class=\"tg-baqh\">0.20625</td>\n",
        "  </tr>\n",
        "  <tr>\n",
        "    <td class=\"tg-5frq\">Retention</td>\n",
        "    <td class=\"tg-baqh\"><span style=\"font-weight:400;font-style:normal\">Probability of payment, given enrollment</span></td>\n",
        "    <td class=\"tg-baqh\">0.53</td>\n",
        "  </tr>\n",
        "  <tr>\n",
        "    <td class=\"tg-5frq\">Net Conversion</td>\n",
        "    <td class=\"tg-baqh\"><span style=\"font-weight:400;font-style:normal\">Probability of payment, given click</span></td>\n",
        "    <td class=\"tg-baqh\">0.109313</td>\n",
        "  </tr>\n",
        "</tbody></table>\n"
      ],
      "metadata": {
        "id": "hTeTkEO3nrb5"
      }
    },
    {
      "cell_type": "code",
      "execution_count": null,
      "metadata": {
        "id": "WMrD7ElMkwUE"
      },
      "outputs": [],
      "source": [
        "import math as mt\n",
        "import numpy as np\n",
        "import pandas as pd\n",
        "from scipy.stats import norm\n",
        "import matplotlib.pyplot as plt\n",
        "import seaborn as sns\n",
        "import warnings\n",
        "warnings.filterwarnings('ignore')"
      ]
    },
    {
      "cell_type": "code",
      "source": [
        "#Creating dictionary\n",
        "baseline = {\"Cookies\":40000,\n",
        "            \"Clicks\":3200,\n",
        "            \"Enrollments\":660,\n",
        "            \"CTP\":0.08,\n",
        "            \"GConversion\":0.20625,\n",
        "            \"Retention\":0.53,\n",
        "            \"NConversion\":0.109313}\n",
        "baseline"
      ],
      "metadata": {
        "colab": {
          "base_uri": "https://localhost:8080/"
        },
        "id": "1yLWohrqwd5R",
        "outputId": "02962f01-4820-472c-8085-fe9843298841"
      },
      "execution_count": null,
      "outputs": [
        {
          "output_type": "execute_result",
          "data": {
            "text/plain": [
              "{'Cookies': 40000,\n",
              " 'Clicks': 3200,\n",
              " 'Enrollments': 660,\n",
              " 'CTP': 0.08,\n",
              " 'GConversion': 0.20625,\n",
              " 'Retention': 0.53,\n",
              " 'NConversion': 0.109313}"
            ]
          },
          "metadata": {},
          "execution_count": 11
        }
      ]
    },
    {
      "cell_type": "markdown",
      "source": [
        "\n",
        "#Estimating Standard Deviation\n",
        "This is computed for sample size calculations and confidence intervals for out results.\n",
        "More variant a metric is, harder it is to reach the signigicant result.\n",
        "\n",
        "Assuming the sample size of 5,000 cookies visiting the course overview page, we need to estimate the \"standard deviation\", for the evaluation metrics only.\n",
        "\n",
        "Also sample size should be smaller than the population we collected, and small enough to have two groups with that size.\n",
        "\n",
        "#Scaling Collected Data\n",
        "\n",
        "All collected counts should be scaled with the sample size specified for the vairance estimation. Here, we scale the 40,000 unique cookies to visit the course overview page per day to 5,000."
      ],
      "metadata": {
        "id": "bL0cKSfkwfAA"
      }
    },
    {
      "cell_type": "code",
      "source": [
        "#Scaling Collected Data\n",
        "baseline[\"Cookies\"] = 5000\n",
        "baseline [\"Clicks\"] = baseline[\"Clicks\"]*(5000/40000)\n",
        "baseline[\"Enrollments\"] = baseline[\"Enrollments\"]*(5000/40000)\n",
        "\n",
        "baseline"
      ],
      "metadata": {
        "colab": {
          "base_uri": "https://localhost:8080/"
        },
        "id": "-kaiRDFTlD3P",
        "outputId": "82c25da2-7b8c-40be-ae96-c1da3ad0588d"
      },
      "execution_count": null,
      "outputs": [
        {
          "output_type": "execute_result",
          "data": {
            "text/plain": [
              "{'Cookies': 5000,\n",
              " 'Clicks': 400.0,\n",
              " 'Enrollments': 82.5,\n",
              " 'CTP': 0.08,\n",
              " 'GConversion': 0.20625,\n",
              " 'Retention': 0.53,\n",
              " 'NConversion': 0.109313}"
            ]
          },
          "metadata": {},
          "execution_count": 12
        }
      ]
    },
    {
      "cell_type": "code",
      "source": [
        "#Analytical Estimation - assuming this is a binomial distribution standard deviation can be calculated using the formula\n",
        "#SD = sqrt{p*(1-p)/n}\n",
        "\n",
        "#This assumption is only valid when the unit of diversion of the experiment is equal to the unit of analysis (the denominator of the metric formula). In the cases when this is not valid, the actual variance might be different and it is recommended to estimate it empirically.\n",
        "#For each metric, we need to plug two variables into the formula:\n",
        "#p̂ - baseline probability of the event to occur\n",
        "#n - sample size\n",
        "\n",
        "#Gross Conversion - The baseline probability for Gross Conversion\n",
        "#can be calculated by the number of users to enroll in a free trial divided by the number of cookies clicking the free trial.\n",
        "#In other words, the probability of enrollment given a click.\n",
        "#In this case, the unit of diversion (Cookies), that is the element by which we differentiate\n",
        "#samples and assign them to control and experiment groups,\n",
        "#is equal to the unit of analysis (cookies who click),\n",
        "#that is the denominator of the formula to calculate Gross Conversion(GC).\n",
        "#When this is the case, this analytic estimate of variance is sufficient.\n",
        "\n",
        "GC={}\n",
        "GC[\"d_min\"]=0.01\n",
        "GC[\"p\"]=baseline[\"GConversion\"]\n",
        "GC[\"n\"]=baseline[\"Clicks\"]\n",
        "GC[\"sd\"]=round(mt.sqrt((GC[\"p\"]*(1-GC[\"p\"]))/GC[\"n\"]),4)\n",
        "GC[\"sd\"]\n",
        "\n"
      ],
      "metadata": {
        "colab": {
          "base_uri": "https://localhost:8080/"
        },
        "id": "Dsa6_1klzE13",
        "outputId": "5b77ae71-d724-47b6-b2b8-ed99a6592040"
      },
      "execution_count": null,
      "outputs": [
        {
          "output_type": "execute_result",
          "data": {
            "text/plain": [
              "0.0202"
            ]
          },
          "metadata": {},
          "execution_count": 15
        }
      ]
    },
    {
      "cell_type": "code",
      "source": [
        "#Retention Calculation: number of paying users (after 14 days)/ numer of total enrolled users.\n",
        "\n",
        "R={}\n",
        "R[\"d_min\"]=0.01\n",
        "R[\"p\"]=baseline[\"Retention\"]\n",
        "R[\"n\"]=baseline[\"Enrollments\"]\n",
        "R[\"sd\"]=round(mt.sqrt((RC[\"p\"]*(1-RC[\"p\"]))/RC[\"n\"]),4)\n",
        "R[\"sd\"]"
      ],
      "metadata": {
        "colab": {
          "base_uri": "https://localhost:8080/"
        },
        "id": "VJFZh0Vw1LkU",
        "outputId": "0d8b4c5f-d7bc-4d55-e309-9f03cce67052"
      },
      "execution_count": null,
      "outputs": [
        {
          "output_type": "execute_result",
          "data": {
            "text/plain": [
              "0.0549"
            ]
          },
          "metadata": {},
          "execution_count": 17
        }
      ]
    },
    {
      "cell_type": "code",
      "source": [
        "#Net Conversion: number of paying users / number of cookies that clicked free trial button.\n",
        "\n",
        "NC={}\n",
        "NC[\"d_min\"]=0.0075\n",
        "NC[\"p\"]=baseline[\"NConversion\"]\n",
        "NC[\"n\"]=baseline[\"Clicks\"]\n",
        "NC[\"sd\"]=round(mt.sqrt((NC[\"p\"]*(1-NC[\"p\"]))/NC[\"n\"]),4)\n",
        "NC[\"sd\"]"
      ],
      "metadata": {
        "colab": {
          "base_uri": "https://localhost:8080/"
        },
        "id": "Vwj_4pKM1Uy4",
        "outputId": "791d450a-6b71-4783-8b4e-31f1b61920b3"
      },
      "execution_count": null,
      "outputs": [
        {
          "output_type": "execute_result",
          "data": {
            "text/plain": [
              "0.0156"
            ]
          },
          "metadata": {},
          "execution_count": 18
        }
      ]
    },
    {
      "cell_type": "code",
      "source": [
        "#Experiment Sizing: determining minimum sample size needed\n",
        "#so that we have enough statistical power as well as significance\n",
        "\n",
        "#aplha = 0.05, Beta = 0.2\n",
        "#We should determine how many total pageviews are needed in the experiment\n",
        "#This is reflected by cookies who viewed the course overview.\n",
        "# We divide cookies into control and treatment group.\n",
        "\n",
        "#Null hypotheres: Pexp -Pcont = 0\n",
        "#Alternative hypothesis: Pexp - Pcont != 0\n",
        "#We also need to calculate z-scores andd deviations\n",
        "# alpha = 0.05, Beta = 0.2, d =dmin\n",
        "\n",
        "def get_sds(p,d):\n",
        "    sd1=mt.sqrt(2*p*(1-p))\n",
        "    sd2=mt.sqrt(p*(1-p)+(p+d)*(1-(p+d)))\n",
        "    x=[sd1,sd2]\n",
        "    return x\n",
        "\n",
        "\n"
      ],
      "metadata": {
        "id": "vyBXoc6s1iEi"
      },
      "execution_count": null,
      "outputs": []
    },
    {
      "cell_type": "code",
      "source": [
        "\n",
        "#Inputs: required alpha value (alpha should already fit the required test)\n",
        "#Returns: z-score for given alpha\n",
        "\n",
        "def get_z_score(alpha):\n",
        "    return norm.ppf(alpha)\n",
        "\n",
        "    # Inputs p-baseline conversion rate which is our estimated p and d-minimum detectable change\n",
        "    # Returns\n",
        "    # dictionary with the different z-scores\n",
        "    # Two values: z-score for the lower and upper of the confidence interval\n",
        "    # The value for lower confidence interval is negative\n",
        "\n",
        "def get_sds(p,d):\n",
        "    sd1=mt.sqrt(2*p*(1-p))\n",
        "    sd2=mt.sqrt(p*(1-p)+(p+d)*(1-(p+d)))\n",
        "    sds=[sd1,sd2]\n",
        "    return sds\n",
        "\n",
        "    # Inputs: sd1-sd for the baseline,\n",
        "    #         sd2-sd for the expected change,\n",
        "    #         alpha,beta,d-d_min,p-baseline estimate p\n",
        "# Returns: the minimum sample size required per group according to metric denominator\n",
        "def get_sampSize(sds,alpha,beta,d):\n",
        "    return pow((get_z_score(1-alpha/2)*sds[0]+get_z_score(1-beta)*sds[1]),2)/pow(d,2)"
      ],
      "metadata": {
        "id": "WOQ5E3Uz3q9d"
      },
      "execution_count": null,
      "outputs": []
    },
    {
      "cell_type": "code",
      "source": [
        "#Calculating sample size per metric\n",
        "GC[\"d\"]=0.01\n",
        "R[\"d\"]=0.01\n",
        "NC[\"d\"]=0.0075\n"
      ],
      "metadata": {
        "id": "4l5p4ihq4VDv"
      },
      "execution_count": null,
      "outputs": []
    },
    {
      "cell_type": "code",
      "source": [
        "GC[\"SampSize\"]=round(get_sampSize(get_sds(GC[\"p\"],GC[\"d\"]),0.05,0.2,GC[\"d\"]))\n",
        "GC[\"SampSize\"]\n",
        "#We need at least 25835 cookies who click option1, free trial button per group\n",
        "#for 400 clicks of 5000 page views, we need\n",
        "# GC[\"SampSize\"]/0.08 page views"
      ],
      "metadata": {
        "colab": {
          "base_uri": "https://localhost:8080/"
        },
        "id": "do2wrR6d4ezs",
        "outputId": "52417552-acf2-49c4-8214-915eb3c976b4"
      },
      "execution_count": null,
      "outputs": [
        {
          "output_type": "execute_result",
          "data": {
            "text/plain": [
              "25835"
            ]
          },
          "metadata": {},
          "execution_count": 24
        }
      ]
    },
    {
      "cell_type": "code",
      "source": [
        "#total number of samples per gross conversion metric will be:\n",
        "\n",
        "GC[\"SampSize\"]=round(GC[\"SampSize\"]/0.08*2)\n",
        "GC[\"SampSize\"]"
      ],
      "metadata": {
        "colab": {
          "base_uri": "https://localhost:8080/"
        },
        "id": "JIW_9fBy47JA",
        "outputId": "7cf56a49-92e8-4df0-9a75-49dcff7c31b6"
      },
      "execution_count": null,
      "outputs": [
        {
          "output_type": "execute_result",
          "data": {
            "text/plain": [
              "645875"
            ]
          },
          "metadata": {},
          "execution_count": 25
        }
      ]
    },
    {
      "cell_type": "code",
      "source": [
        "#Similarly number of retention will be:\n",
        "R[\"SampSize\"]=round(get_sampSize(get_sds(R[\"p\"],R[\"d\"]),0.05,0.2,R[\"d\"]))\n",
        "R[\"SampSize\"]\n",
        "\n",
        "#we will need 39,087 users who enrolled per group.\n",
        "#Convert the cookies who clicked, and cookies who viewed the page\n",
        "#Multiply the outcome by 2 for both groups."
      ],
      "metadata": {
        "colab": {
          "base_uri": "https://localhost:8080/"
        },
        "id": "bSvOpP7H5EGp",
        "outputId": "cc8b3fb8-8a02-43a4-dc50-eee09b011aa6"
      },
      "execution_count": null,
      "outputs": [
        {
          "output_type": "execute_result",
          "data": {
            "text/plain": [
              "39087"
            ]
          },
          "metadata": {},
          "execution_count": 26
        }
      ]
    },
    {
      "cell_type": "code",
      "source": [
        "R[\"SampSize\"]=R[\"SampSize\"]/0.08/0.20625*2\n",
        "R[\"SampSize\"]\n",
        "\n",
        "#The resulting output is total of over 4 million page views.\n",
        "#The calculation is far fetched as the estimator provided is 40,000 per day.\n",
        "# We will not use this metric as it will create bias in the experiment outcome."
      ],
      "metadata": {
        "colab": {
          "base_uri": "https://localhost:8080/"
        },
        "id": "2OSnINgt5fAC",
        "outputId": "cf285955-a905-48f9-9fc4-994e20dc0ba5"
      },
      "execution_count": null,
      "outputs": [
        {
          "output_type": "execute_result",
          "data": {
            "text/plain": [
              "4737818.181818182"
            ]
          },
          "metadata": {},
          "execution_count": 27
        }
      ]
    },
    {
      "cell_type": "code",
      "source": [
        "#Net Conversion:\n",
        "NC[\"SampSize\"]=round(get_sampSize(get_sds(NC[\"p\"],NC[\"d\"]),0.05,0.2,NC[\"d\"]))\n",
        "NC[\"SampSize\"]"
      ],
      "metadata": {
        "colab": {
          "base_uri": "https://localhost:8080/"
        },
        "id": "gGoefj3A6CvQ",
        "outputId": "b270122a-9a54-4086-d294-23cfc452b560"
      },
      "execution_count": null,
      "outputs": [
        {
          "output_type": "execute_result",
          "data": {
            "text/plain": [
              "27413"
            ]
          },
          "metadata": {},
          "execution_count": 28
        }
      ]
    },
    {
      "cell_type": "code",
      "source": [
        "#27413 cookies who click per group gives the initial sample size\n",
        "# needed to achieve the estimated net conversion rate of 0.08:\n",
        "NC[\"SampSize\"]=NC[\"SampSize\"]/0.08*2\n",
        "NC[\"SampSize\"]"
      ],
      "metadata": {
        "colab": {
          "base_uri": "https://localhost:8080/"
        },
        "id": "lt3T7J656LRp",
        "outputId": "9506c894-13f1-4e6a-afb3-afc3d2de45d8"
      },
      "execution_count": null,
      "outputs": [
        {
          "output_type": "execute_result",
          "data": {
            "text/plain": [
              "685325.0"
            ]
          },
          "metadata": {},
          "execution_count": 29
        }
      ]
    },
    {
      "cell_type": "code",
      "source": [
        "#The 685,325 cookies viewed the page, which is higher than the gross conversion.\n",
        "#Assuming we consider 805 of page views per day, the period for data collection for this experiment would be about 3 weeks."
      ],
      "metadata": {
        "id": "M-8-SXN47BUM"
      },
      "execution_count": null,
      "outputs": []
    },
    {
      "cell_type": "markdown",
      "source": [
        "# Data Analysis and Loading Collected Data\n",
        "\n",
        "---\n",
        "\n"
      ],
      "metadata": {
        "id": "rxk34EWe7pub"
      }
    },
    {
      "cell_type": "code",
      "source": [
        "control=pd.read_csv(\"/content/drive/MyDrive/Colab Notebooks/Control_Data.csv\")\n",
        "experiment=pd.read_csv(\"/content/drive/MyDrive/Colab Notebooks/Experiment_Data.csv\")\n",
        "control.head()"
      ],
      "metadata": {
        "colab": {
          "base_uri": "https://localhost:8080/",
          "height": 206
        },
        "id": "MkzLiuNt7mt1",
        "outputId": "69f01a01-0197-4544-c7e2-d8d14bcf83bf"
      },
      "execution_count": 33,
      "outputs": [
        {
          "output_type": "execute_result",
          "data": {
            "text/plain": [
              "          Date  Pageviews  Clicks  Enrollments  Payments\n",
              "0  Sat, Oct 11       7723     687        134.0      70.0\n",
              "1  Sun, Oct 12       9102     779        147.0      70.0\n",
              "2  Mon, Oct 13      10511     909        167.0      95.0\n",
              "3  Tue, Oct 14       9871     836        156.0     105.0\n",
              "4  Wed, Oct 15      10014     837        163.0      64.0"
            ],
            "text/html": [
              "\n",
              "  <div id=\"df-6c8ee846-3a04-4a15-a37c-1d1240546073\" class=\"colab-df-container\">\n",
              "    <div>\n",
              "<style scoped>\n",
              "    .dataframe tbody tr th:only-of-type {\n",
              "        vertical-align: middle;\n",
              "    }\n",
              "\n",
              "    .dataframe tbody tr th {\n",
              "        vertical-align: top;\n",
              "    }\n",
              "\n",
              "    .dataframe thead th {\n",
              "        text-align: right;\n",
              "    }\n",
              "</style>\n",
              "<table border=\"1\" class=\"dataframe\">\n",
              "  <thead>\n",
              "    <tr style=\"text-align: right;\">\n",
              "      <th></th>\n",
              "      <th>Date</th>\n",
              "      <th>Pageviews</th>\n",
              "      <th>Clicks</th>\n",
              "      <th>Enrollments</th>\n",
              "      <th>Payments</th>\n",
              "    </tr>\n",
              "  </thead>\n",
              "  <tbody>\n",
              "    <tr>\n",
              "      <th>0</th>\n",
              "      <td>Sat, Oct 11</td>\n",
              "      <td>7723</td>\n",
              "      <td>687</td>\n",
              "      <td>134.0</td>\n",
              "      <td>70.0</td>\n",
              "    </tr>\n",
              "    <tr>\n",
              "      <th>1</th>\n",
              "      <td>Sun, Oct 12</td>\n",
              "      <td>9102</td>\n",
              "      <td>779</td>\n",
              "      <td>147.0</td>\n",
              "      <td>70.0</td>\n",
              "    </tr>\n",
              "    <tr>\n",
              "      <th>2</th>\n",
              "      <td>Mon, Oct 13</td>\n",
              "      <td>10511</td>\n",
              "      <td>909</td>\n",
              "      <td>167.0</td>\n",
              "      <td>95.0</td>\n",
              "    </tr>\n",
              "    <tr>\n",
              "      <th>3</th>\n",
              "      <td>Tue, Oct 14</td>\n",
              "      <td>9871</td>\n",
              "      <td>836</td>\n",
              "      <td>156.0</td>\n",
              "      <td>105.0</td>\n",
              "    </tr>\n",
              "    <tr>\n",
              "      <th>4</th>\n",
              "      <td>Wed, Oct 15</td>\n",
              "      <td>10014</td>\n",
              "      <td>837</td>\n",
              "      <td>163.0</td>\n",
              "      <td>64.0</td>\n",
              "    </tr>\n",
              "  </tbody>\n",
              "</table>\n",
              "</div>\n",
              "    <div class=\"colab-df-buttons\">\n",
              "\n",
              "  <div class=\"colab-df-container\">\n",
              "    <button class=\"colab-df-convert\" onclick=\"convertToInteractive('df-6c8ee846-3a04-4a15-a37c-1d1240546073')\"\n",
              "            title=\"Convert this dataframe to an interactive table.\"\n",
              "            style=\"display:none;\">\n",
              "\n",
              "  <svg xmlns=\"http://www.w3.org/2000/svg\" height=\"24px\" viewBox=\"0 -960 960 960\">\n",
              "    <path d=\"M120-120v-720h720v720H120Zm60-500h600v-160H180v160Zm220 220h160v-160H400v160Zm0 220h160v-160H400v160ZM180-400h160v-160H180v160Zm440 0h160v-160H620v160ZM180-180h160v-160H180v160Zm440 0h160v-160H620v160Z\"/>\n",
              "  </svg>\n",
              "    </button>\n",
              "\n",
              "  <style>\n",
              "    .colab-df-container {\n",
              "      display:flex;\n",
              "      gap: 12px;\n",
              "    }\n",
              "\n",
              "    .colab-df-convert {\n",
              "      background-color: #E8F0FE;\n",
              "      border: none;\n",
              "      border-radius: 50%;\n",
              "      cursor: pointer;\n",
              "      display: none;\n",
              "      fill: #1967D2;\n",
              "      height: 32px;\n",
              "      padding: 0 0 0 0;\n",
              "      width: 32px;\n",
              "    }\n",
              "\n",
              "    .colab-df-convert:hover {\n",
              "      background-color: #E2EBFA;\n",
              "      box-shadow: 0px 1px 2px rgba(60, 64, 67, 0.3), 0px 1px 3px 1px rgba(60, 64, 67, 0.15);\n",
              "      fill: #174EA6;\n",
              "    }\n",
              "\n",
              "    .colab-df-buttons div {\n",
              "      margin-bottom: 4px;\n",
              "    }\n",
              "\n",
              "    [theme=dark] .colab-df-convert {\n",
              "      background-color: #3B4455;\n",
              "      fill: #D2E3FC;\n",
              "    }\n",
              "\n",
              "    [theme=dark] .colab-df-convert:hover {\n",
              "      background-color: #434B5C;\n",
              "      box-shadow: 0px 1px 3px 1px rgba(0, 0, 0, 0.15);\n",
              "      filter: drop-shadow(0px 1px 2px rgba(0, 0, 0, 0.3));\n",
              "      fill: #FFFFFF;\n",
              "    }\n",
              "  </style>\n",
              "\n",
              "    <script>\n",
              "      const buttonEl =\n",
              "        document.querySelector('#df-6c8ee846-3a04-4a15-a37c-1d1240546073 button.colab-df-convert');\n",
              "      buttonEl.style.display =\n",
              "        google.colab.kernel.accessAllowed ? 'block' : 'none';\n",
              "\n",
              "      async function convertToInteractive(key) {\n",
              "        const element = document.querySelector('#df-6c8ee846-3a04-4a15-a37c-1d1240546073');\n",
              "        const dataTable =\n",
              "          await google.colab.kernel.invokeFunction('convertToInteractive',\n",
              "                                                    [key], {});\n",
              "        if (!dataTable) return;\n",
              "\n",
              "        const docLinkHtml = 'Like what you see? Visit the ' +\n",
              "          '<a target=\"_blank\" href=https://colab.research.google.com/notebooks/data_table.ipynb>data table notebook</a>'\n",
              "          + ' to learn more about interactive tables.';\n",
              "        element.innerHTML = '';\n",
              "        dataTable['output_type'] = 'display_data';\n",
              "        await google.colab.output.renderOutput(dataTable, element);\n",
              "        const docLink = document.createElement('div');\n",
              "        docLink.innerHTML = docLinkHtml;\n",
              "        element.appendChild(docLink);\n",
              "      }\n",
              "    </script>\n",
              "  </div>\n",
              "\n",
              "\n",
              "<div id=\"df-c9f9fe7f-5f0b-45e1-b146-40554d007c60\">\n",
              "  <button class=\"colab-df-quickchart\" onclick=\"quickchart('df-c9f9fe7f-5f0b-45e1-b146-40554d007c60')\"\n",
              "            title=\"Suggest charts\"\n",
              "            style=\"display:none;\">\n",
              "\n",
              "<svg xmlns=\"http://www.w3.org/2000/svg\" height=\"24px\"viewBox=\"0 0 24 24\"\n",
              "     width=\"24px\">\n",
              "    <g>\n",
              "        <path d=\"M19 3H5c-1.1 0-2 .9-2 2v14c0 1.1.9 2 2 2h14c1.1 0 2-.9 2-2V5c0-1.1-.9-2-2-2zM9 17H7v-7h2v7zm4 0h-2V7h2v10zm4 0h-2v-4h2v4z\"/>\n",
              "    </g>\n",
              "</svg>\n",
              "  </button>\n",
              "\n",
              "<style>\n",
              "  .colab-df-quickchart {\n",
              "      --bg-color: #E8F0FE;\n",
              "      --fill-color: #1967D2;\n",
              "      --hover-bg-color: #E2EBFA;\n",
              "      --hover-fill-color: #174EA6;\n",
              "      --disabled-fill-color: #AAA;\n",
              "      --disabled-bg-color: #DDD;\n",
              "  }\n",
              "\n",
              "  [theme=dark] .colab-df-quickchart {\n",
              "      --bg-color: #3B4455;\n",
              "      --fill-color: #D2E3FC;\n",
              "      --hover-bg-color: #434B5C;\n",
              "      --hover-fill-color: #FFFFFF;\n",
              "      --disabled-bg-color: #3B4455;\n",
              "      --disabled-fill-color: #666;\n",
              "  }\n",
              "\n",
              "  .colab-df-quickchart {\n",
              "    background-color: var(--bg-color);\n",
              "    border: none;\n",
              "    border-radius: 50%;\n",
              "    cursor: pointer;\n",
              "    display: none;\n",
              "    fill: var(--fill-color);\n",
              "    height: 32px;\n",
              "    padding: 0;\n",
              "    width: 32px;\n",
              "  }\n",
              "\n",
              "  .colab-df-quickchart:hover {\n",
              "    background-color: var(--hover-bg-color);\n",
              "    box-shadow: 0 1px 2px rgba(60, 64, 67, 0.3), 0 1px 3px 1px rgba(60, 64, 67, 0.15);\n",
              "    fill: var(--button-hover-fill-color);\n",
              "  }\n",
              "\n",
              "  .colab-df-quickchart-complete:disabled,\n",
              "  .colab-df-quickchart-complete:disabled:hover {\n",
              "    background-color: var(--disabled-bg-color);\n",
              "    fill: var(--disabled-fill-color);\n",
              "    box-shadow: none;\n",
              "  }\n",
              "\n",
              "  .colab-df-spinner {\n",
              "    border: 2px solid var(--fill-color);\n",
              "    border-color: transparent;\n",
              "    border-bottom-color: var(--fill-color);\n",
              "    animation:\n",
              "      spin 1s steps(1) infinite;\n",
              "  }\n",
              "\n",
              "  @keyframes spin {\n",
              "    0% {\n",
              "      border-color: transparent;\n",
              "      border-bottom-color: var(--fill-color);\n",
              "      border-left-color: var(--fill-color);\n",
              "    }\n",
              "    20% {\n",
              "      border-color: transparent;\n",
              "      border-left-color: var(--fill-color);\n",
              "      border-top-color: var(--fill-color);\n",
              "    }\n",
              "    30% {\n",
              "      border-color: transparent;\n",
              "      border-left-color: var(--fill-color);\n",
              "      border-top-color: var(--fill-color);\n",
              "      border-right-color: var(--fill-color);\n",
              "    }\n",
              "    40% {\n",
              "      border-color: transparent;\n",
              "      border-right-color: var(--fill-color);\n",
              "      border-top-color: var(--fill-color);\n",
              "    }\n",
              "    60% {\n",
              "      border-color: transparent;\n",
              "      border-right-color: var(--fill-color);\n",
              "    }\n",
              "    80% {\n",
              "      border-color: transparent;\n",
              "      border-right-color: var(--fill-color);\n",
              "      border-bottom-color: var(--fill-color);\n",
              "    }\n",
              "    90% {\n",
              "      border-color: transparent;\n",
              "      border-bottom-color: var(--fill-color);\n",
              "    }\n",
              "  }\n",
              "</style>\n",
              "\n",
              "  <script>\n",
              "    async function quickchart(key) {\n",
              "      const quickchartButtonEl =\n",
              "        document.querySelector('#' + key + ' button');\n",
              "      quickchartButtonEl.disabled = true;  // To prevent multiple clicks.\n",
              "      quickchartButtonEl.classList.add('colab-df-spinner');\n",
              "      try {\n",
              "        const charts = await google.colab.kernel.invokeFunction(\n",
              "            'suggestCharts', [key], {});\n",
              "      } catch (error) {\n",
              "        console.error('Error during call to suggestCharts:', error);\n",
              "      }\n",
              "      quickchartButtonEl.classList.remove('colab-df-spinner');\n",
              "      quickchartButtonEl.classList.add('colab-df-quickchart-complete');\n",
              "    }\n",
              "    (() => {\n",
              "      let quickchartButtonEl =\n",
              "        document.querySelector('#df-c9f9fe7f-5f0b-45e1-b146-40554d007c60 button');\n",
              "      quickchartButtonEl.style.display =\n",
              "        google.colab.kernel.accessAllowed ? 'block' : 'none';\n",
              "    })();\n",
              "  </script>\n",
              "</div>\n",
              "\n",
              "    </div>\n",
              "  </div>\n"
            ],
            "application/vnd.google.colaboratory.intrinsic+json": {
              "type": "dataframe",
              "variable_name": "control",
              "summary": "{\n  \"name\": \"control\",\n  \"rows\": 37,\n  \"fields\": [\n    {\n      \"column\": \"Date\",\n      \"properties\": {\n        \"dtype\": \"string\",\n        \"num_unique_values\": 37,\n        \"samples\": [\n          \"Tue, Oct 28\",\n          \"Fri, Oct 24\",\n          \"Wed, Oct 15\"\n        ],\n        \"semantic_type\": \"\",\n        \"description\": \"\"\n      }\n    },\n    {\n      \"column\": \"Pageviews\",\n      \"properties\": {\n        \"dtype\": \"number\",\n        \"std\": 740,\n        \"min\": 7434,\n        \"max\": 10667,\n        \"num_unique_values\": 37,\n        \"samples\": [\n          9363,\n          9434,\n          10014\n        ],\n        \"semantic_type\": \"\",\n        \"description\": \"\"\n      }\n    },\n    {\n      \"column\": \"Clicks\",\n      \"properties\": {\n        \"dtype\": \"number\",\n        \"std\": 68,\n        \"min\": 632,\n        \"max\": 909,\n        \"num_unique_values\": 34,\n        \"samples\": [\n          759,\n          706,\n          825\n        ],\n        \"semantic_type\": \"\",\n        \"description\": \"\"\n      }\n    },\n    {\n      \"column\": \"Enrollments\",\n      \"properties\": {\n        \"dtype\": \"number\",\n        \"std\": 29.977000406306228,\n        \"min\": 110.0,\n        \"max\": 233.0,\n        \"num_unique_values\": 20,\n        \"samples\": [\n          134.0,\n          154.0,\n          161.0\n        ],\n        \"semantic_type\": \"\",\n        \"description\": \"\"\n      }\n    },\n    {\n      \"column\": \"Payments\",\n      \"properties\": {\n        \"dtype\": \"number\",\n        \"std\": 20.650201694887283,\n        \"min\": 56.0,\n        \"max\": 128.0,\n        \"num_unique_values\": 20,\n        \"samples\": [\n          70.0,\n          101.0,\n          86.0\n        ],\n        \"semantic_type\": \"\",\n        \"description\": \"\"\n      }\n    }\n  ]\n}"
            }
          },
          "metadata": {},
          "execution_count": 33
        }
      ]
    },
    {
      "cell_type": "markdown",
      "source": [
        "Sanity Checks help verify whether the experiment was conducted as expected and that other factors did not influence the data collected.\n",
        "\n",
        "3 Invariant Metrics:\n",
        "\n",
        "*  Number of cookies in course overview page\n",
        "*  Number of cookies in Free Trial Button\n",
        "*  Free Trial Button Click - Through - Probability\n",
        "\n"
      ],
      "metadata": {
        "id": "llJAHOQC-13x"
      }
    },
    {
      "cell_type": "code",
      "source": [
        "#Cookies in course overview page\n",
        "pageviews_cont=control['Pageviews'].sum()\n",
        "pageviews_exp=experiment['Pageviews'].sum()\n",
        "pageviews_total=pageviews_cont+pageviews_exp\n",
        "print (\"number of pageviews in control:\", pageviews_cont)\n",
        "print (\"number of Pageviews in experiment:\" ,pageviews_exp)"
      ],
      "metadata": {
        "colab": {
          "base_uri": "https://localhost:8080/"
        },
        "id": "ze8daVHd-ipq",
        "outputId": "26ddff38-b07b-41e9-a0d4-23c8b1883a09"
      },
      "execution_count": 34,
      "outputs": [
        {
          "output_type": "stream",
          "name": "stdout",
          "text": [
            "number of pageviews in control: 345543\n",
            "number of Pageviews in experiment: 344660\n"
          ]
        }
      ]
    },
    {
      "cell_type": "code",
      "source": [
        "#Checking p_hat and determining if the value is wihin the range of confidence interval\n",
        "p = 0.5\n",
        "alpha = 0.05\n",
        "p_hat = round(pageviews_cont/(pageviews_total),4)\n",
        "sd = mt.sqrt(p*(1-p)/(pageviews_total))\n",
        "\n",
        "#Margin of Error ME can now be calculated as:\n",
        "ME = round(get_z_score(1-(alpha/2))*sd,4)\n",
        "\n",
        "#Confidence Interval:\n",
        "CB = [round(p-ME,4),round(p+ME,4)]\n",
        "print (\"Confidence interval: [\",CB[0],\",\",CB[1],\"]\")\n",
        "print (\"Is\",p_hat,\"inside this range?\")\n",
        "\n"
      ],
      "metadata": {
        "colab": {
          "base_uri": "https://localhost:8080/"
        },
        "id": "_maoCe_KAMZ4",
        "outputId": "0982814e-a165-442e-c4de-7f6e7bb989a3"
      },
      "execution_count": 36,
      "outputs": [
        {
          "output_type": "stream",
          "name": "stdout",
          "text": [
            "Confidence interval: [ 0.4988 , 0.5012 ]\n",
            "Is 0.5006 inside this range?\n"
          ]
        }
      ]
    },
    {
      "cell_type": "code",
      "source": [
        "#Cookies in Free Trial button:\n",
        "clicks_cont=control['Clicks'].sum()\n",
        "clicks_exp=experiment['Clicks'].sum()\n",
        "clicks_total=clicks_cont+clicks_exp\n",
        "\n",
        "#using same values of p and alpha:\n",
        "p_hat = round(clicks_cont/clicks_total,4)\n",
        "sd = mt.sqrt(p*(1-p)/clicks_total)\n",
        "\n",
        "#Margin of Error ME can now be calculated as:\n",
        "ME = round(get_z_score(1-(alpha/2))*sd,4)\n",
        "\n",
        "#Confidence Interval:\n",
        "CB = [round(p-ME,4),round(p+ME,4)]\n",
        "print (\"Confidence interval: [\",CB[0],\",\",CB[1],\"]\")\n",
        "print (\"Is\",p_hat,\"inside this range?\")"
      ],
      "metadata": {
        "colab": {
          "base_uri": "https://localhost:8080/"
        },
        "id": "25I5kewSBsLe",
        "outputId": "ece0a2e8-c827-4df1-b3d7-7b53a212ff3e"
      },
      "execution_count": 37,
      "outputs": [
        {
          "output_type": "stream",
          "name": "stdout",
          "text": [
            "Confidence interval: [ 0.4959 , 0.5041 ]\n",
            "Is 0.5005 inside this range?\n"
          ]
        }
      ]
    },
    {
      "cell_type": "code",
      "source": [
        "#Checking for differences between probabilities:\n",
        "#CTP of the Free Trial Button:\n",
        "\n",
        "ctp_cont=clicks_cont/pageviews_cont\n",
        "ctp_exp=clicks_exp/pageviews_exp\n",
        "d_hat=round(ctp_exp-ctp_cont,4)\n",
        "p_pooled=clicks_total/pageviews_total\n",
        "sd_pooled=mt.sqrt(p_pooled*(1-p_pooled)*(1/pageviews_cont+1/pageviews_exp))\n",
        "\n",
        "#Margin of Error ME can be calculated as:\n",
        "ME=round(get_z_score(1-(alpha/2))*sd_pooled,4)\n",
        "print (\"Confidence interval: [\",d_hat-ME,\",\",d_hat+ME,\"]\")\n",
        "print (\"Is\",d_hat,\"inside this range?\")"
      ],
      "metadata": {
        "colab": {
          "base_uri": "https://localhost:8080/"
        },
        "id": "GAO9lljUCFrS",
        "outputId": "52ab053e-7410-4299-d8b0-362d7cfb9d01"
      },
      "execution_count": 39,
      "outputs": [
        {
          "output_type": "stream",
          "name": "stdout",
          "text": [
            "Confidence interval: [ -0.0012 , 0.0014 ]\n",
            "Is 0.0001 inside this range?\n"
          ]
        }
      ]
    },
    {
      "cell_type": "code",
      "source": [
        "#Checking for effect size:\n",
        "#Is there any difference between the control and experiment groups wrt evaluation metrics?\n",
        "\n",
        "#Gross Conversion:\n",
        "\n",
        "#counting total clicks from records for both groups\n",
        "\n",
        "enrollments_cont=control[\"Enrollments\"].sum()\n",
        "\n",
        "enrollments_exp=experiment[\"Enrollments\"].sum()\n",
        "\n",
        "#Computing Gross Conversions for both groups:\n",
        "\n",
        "GC_cont=enrollments_cont/clicks_cont\n",
        "GC_exp=enrollments_exp/clicks_exp\n",
        "\n",
        "#Pooled deviation will be as:\n",
        "GC_pooled=(enrollments_cont+enrollments_exp)/(clicks_cont+clicks_exp)\n",
        "GC_sd_pooled=mt.sqrt(GC_pooled*(1-GC_pooled)*(1/clicks_cont+1/clicks_exp))\n",
        "\n",
        "\n",
        "#Margin of Error:\n",
        "GC_ME=round(get_z_score(1-alpha/2)*GC_sd_pooled,4)\n",
        "GC_diff=round(GC_exp-GC_cont,4)\n",
        "print (\"The change due to the experiment is\",round(GC_diff*100, 4),\"%\")\n",
        "print (\"The confidence interval is\",[round(GC_cont-GC_ME,4),round(GC_cont+GC_ME,4)])\n",
        "\n",
        "print (\"The change is statistically significant if the CI doesn't include 0. In that case, it is practically significant if\", GC[\"d_min\"],\"is not in the CI as well.\")"
      ],
      "metadata": {
        "colab": {
          "base_uri": "https://localhost:8080/"
        },
        "id": "ofIUmISzCtgb",
        "outputId": "567fa143-1ad1-4813-a1f7-326c21581df4"
      },
      "execution_count": 53,
      "outputs": [
        {
          "output_type": "stream",
          "name": "stdout",
          "text": [
            "The change due to the experiment is -2.06 %\n",
            "The confidence interval is [0.2103, 0.2275]\n",
            "The change is statistically significant if the CI doesn't include 0. In that case, it is practically significant if 0.01 is not in the CI as well.\n"
          ]
        }
      ]
    },
    {
      "cell_type": "code",
      "source": [
        "#Net Conversion:\n",
        "\n",
        "#Counting total clicks from records for both groups\n",
        "\n",
        "payments_cont=control[\"Payments\"].sum()\n",
        "\n",
        "payments_exp=experiment[\"Payments\"].sum()\n",
        "\n",
        "#Computing Net Conversions for both groups:\n",
        "\n",
        "NC_cont=payments_cont/clicks_cont\n",
        "NC_exp=payments_exp/clicks_exp\n",
        "\n",
        "#Pooled deviation will be as:\n",
        "NC_pooled = (payments_cont+payments_exp)/(clicks_cont+clicks_exp)\n",
        "NC_sd_pooled=mt.sqrt(NC_pooled*(1-NC_pooled)*(1/clicks_cont+1/clicks_exp))\n",
        "\n",
        "#Margin of Error:\n",
        "NC_ME=round(get_z_score(1-alpha/2)*NC_sd_pooled,4)\n",
        "NC_diff=round(NC_exp-NC_cont,4)\n",
        "print (\"The change due to the experiment is\",round(NC_diff*100, 4),\"%\")\n",
        "\n",
        "print (\"The confidence interval is\",[round(NC_cont-NC_ME,4),round(NC_cont+NC_ME,4)])\n",
        "\n",
        "\n",
        "print (\"The change is statistically significant if the CI doesn't include 0. In that case, it is practically significant if\", NC[\"d_min\"],\"is not in the CI as well.\")"
      ],
      "metadata": {
        "colab": {
          "base_uri": "https://localhost:8080/"
        },
        "id": "KQCwAwYtFClO",
        "outputId": "2afd9e78-9de1-4893-8769-299cbb1de51c"
      },
      "execution_count": 54,
      "outputs": [
        {
          "output_type": "stream",
          "name": "stdout",
          "text": [
            "The change due to the experiment is -0.49 %\n",
            "The confidence interval is [0.1109, 0.1243]\n",
            "The change is statistically significant if the CI doesn't include 0. In that case, it is practically significant if 0.0075 is not in the CI as well.\n"
          ]
        }
      ]
    },
    {
      "cell_type": "markdown",
      "source": [
        "#Data Preparation\n",
        "\n",
        "We will now merge data from both control and experient.\n",
        "<li> Step 1 : compute value of metric per day and\n",
        "<li> Step 2: count how many days the metric was lower in the experiment group\n"
      ],
      "metadata": {
        "id": "4Nb22opAJ3_Y"
      }
    },
    {
      "cell_type": "code",
      "source": [
        "full = control.join(other=experiment,how=\"inner\",lsuffix=\"_cont\",rsuffix=\"_exp\")\n",
        "full.count()"
      ],
      "metadata": {
        "colab": {
          "base_uri": "https://localhost:8080/",
          "height": 398
        },
        "id": "kWOcFRpXKrLQ",
        "outputId": "78d6ce89-fd74-47cc-c572-3376f84d506b"
      },
      "execution_count": 58,
      "outputs": [
        {
          "output_type": "execute_result",
          "data": {
            "text/plain": [
              "Date_cont           37\n",
              "Pageviews_cont      37\n",
              "Clicks_cont         37\n",
              "Enrollments_cont    23\n",
              "Payments_cont       23\n",
              "Date_exp            37\n",
              "Pageviews_exp       37\n",
              "Clicks_exp          37\n",
              "Enrollments_exp     23\n",
              "Payments_exp        23\n",
              "dtype: int64"
            ],
            "text/html": [
              "<div>\n",
              "<style scoped>\n",
              "    .dataframe tbody tr th:only-of-type {\n",
              "        vertical-align: middle;\n",
              "    }\n",
              "\n",
              "    .dataframe tbody tr th {\n",
              "        vertical-align: top;\n",
              "    }\n",
              "\n",
              "    .dataframe thead th {\n",
              "        text-align: right;\n",
              "    }\n",
              "</style>\n",
              "<table border=\"1\" class=\"dataframe\">\n",
              "  <thead>\n",
              "    <tr style=\"text-align: right;\">\n",
              "      <th></th>\n",
              "      <th>0</th>\n",
              "    </tr>\n",
              "  </thead>\n",
              "  <tbody>\n",
              "    <tr>\n",
              "      <th>Date_cont</th>\n",
              "      <td>37</td>\n",
              "    </tr>\n",
              "    <tr>\n",
              "      <th>Pageviews_cont</th>\n",
              "      <td>37</td>\n",
              "    </tr>\n",
              "    <tr>\n",
              "      <th>Clicks_cont</th>\n",
              "      <td>37</td>\n",
              "    </tr>\n",
              "    <tr>\n",
              "      <th>Enrollments_cont</th>\n",
              "      <td>23</td>\n",
              "    </tr>\n",
              "    <tr>\n",
              "      <th>Payments_cont</th>\n",
              "      <td>23</td>\n",
              "    </tr>\n",
              "    <tr>\n",
              "      <th>Date_exp</th>\n",
              "      <td>37</td>\n",
              "    </tr>\n",
              "    <tr>\n",
              "      <th>Pageviews_exp</th>\n",
              "      <td>37</td>\n",
              "    </tr>\n",
              "    <tr>\n",
              "      <th>Clicks_exp</th>\n",
              "      <td>37</td>\n",
              "    </tr>\n",
              "    <tr>\n",
              "      <th>Enrollments_exp</th>\n",
              "      <td>23</td>\n",
              "    </tr>\n",
              "    <tr>\n",
              "      <th>Payments_exp</th>\n",
              "      <td>23</td>\n",
              "    </tr>\n",
              "  </tbody>\n",
              "</table>\n",
              "</div><br><label><b>dtype:</b> int64</label>"
            ]
          },
          "metadata": {},
          "execution_count": 58
        }
      ]
    },
    {
      "cell_type": "code",
      "source": [
        "#Update full to include only the complete data records\n",
        "full=full.loc[full[\"Enrollments_cont\"].notnull()]\n",
        "full.count()"
      ],
      "metadata": {
        "colab": {
          "base_uri": "https://localhost:8080/",
          "height": 460
        },
        "id": "K80Lg3LZMTeZ",
        "outputId": "52d9bca5-c7bb-41ff-fd34-818fe8e98aaf"
      },
      "execution_count": 62,
      "outputs": [
        {
          "output_type": "execute_result",
          "data": {
            "text/plain": [
              "Date_cont           23\n",
              "Pageviews_cont      23\n",
              "Clicks_cont         23\n",
              "Enrollments_cont    23\n",
              "Payments_cont       23\n",
              "Date_exp            23\n",
              "Pageviews_exp       23\n",
              "Clicks_exp          23\n",
              "Enrollments_exp     23\n",
              "Payments_exp        23\n",
              "GC                  23\n",
              "NC                  23\n",
              "dtype: int64"
            ],
            "text/html": [
              "<div>\n",
              "<style scoped>\n",
              "    .dataframe tbody tr th:only-of-type {\n",
              "        vertical-align: middle;\n",
              "    }\n",
              "\n",
              "    .dataframe tbody tr th {\n",
              "        vertical-align: top;\n",
              "    }\n",
              "\n",
              "    .dataframe thead th {\n",
              "        text-align: right;\n",
              "    }\n",
              "</style>\n",
              "<table border=\"1\" class=\"dataframe\">\n",
              "  <thead>\n",
              "    <tr style=\"text-align: right;\">\n",
              "      <th></th>\n",
              "      <th>0</th>\n",
              "    </tr>\n",
              "  </thead>\n",
              "  <tbody>\n",
              "    <tr>\n",
              "      <th>Date_cont</th>\n",
              "      <td>23</td>\n",
              "    </tr>\n",
              "    <tr>\n",
              "      <th>Pageviews_cont</th>\n",
              "      <td>23</td>\n",
              "    </tr>\n",
              "    <tr>\n",
              "      <th>Clicks_cont</th>\n",
              "      <td>23</td>\n",
              "    </tr>\n",
              "    <tr>\n",
              "      <th>Enrollments_cont</th>\n",
              "      <td>23</td>\n",
              "    </tr>\n",
              "    <tr>\n",
              "      <th>Payments_cont</th>\n",
              "      <td>23</td>\n",
              "    </tr>\n",
              "    <tr>\n",
              "      <th>Date_exp</th>\n",
              "      <td>23</td>\n",
              "    </tr>\n",
              "    <tr>\n",
              "      <th>Pageviews_exp</th>\n",
              "      <td>23</td>\n",
              "    </tr>\n",
              "    <tr>\n",
              "      <th>Clicks_exp</th>\n",
              "      <td>23</td>\n",
              "    </tr>\n",
              "    <tr>\n",
              "      <th>Enrollments_exp</th>\n",
              "      <td>23</td>\n",
              "    </tr>\n",
              "    <tr>\n",
              "      <th>Payments_exp</th>\n",
              "      <td>23</td>\n",
              "    </tr>\n",
              "    <tr>\n",
              "      <th>GC</th>\n",
              "      <td>23</td>\n",
              "    </tr>\n",
              "    <tr>\n",
              "      <th>NC</th>\n",
              "      <td>23</td>\n",
              "    </tr>\n",
              "  </tbody>\n",
              "</table>\n",
              "</div><br><label><b>dtype:</b> int64</label>"
            ]
          },
          "metadata": {},
          "execution_count": 62
        }
      ]
    },
    {
      "cell_type": "code",
      "source": [
        "#Create new column for each metric so as to record its daily values:\n",
        "\n",
        "x = full['Enrollments_cont']/full['Clicks_cont']\n",
        "y = full['Enrollments_exp']/full['Clicks_exp']\n",
        "\n",
        "full['GC'] = np.where(x<y,1,0)\n",
        "\n",
        "z = full['Payments_cont']/full['Clicks_cont']\n",
        "w = full['Payments_exp']/full['Clicks_exp']\n",
        "\n",
        "full['NC'] = np.where(z<w,1,0)\n",
        "\n",
        "full.head()\n"
      ],
      "metadata": {
        "colab": {
          "base_uri": "https://localhost:8080/",
          "height": 313
        },
        "id": "-JVfkwejKxNs",
        "outputId": "d2042a12-0da0-4b53-9bb5-b380155fb9f1"
      },
      "execution_count": 63,
      "outputs": [
        {
          "output_type": "execute_result",
          "data": {
            "text/plain": [
              "     Date_cont  Pageviews_cont  Clicks_cont  Enrollments_cont  Payments_cont  \\\n",
              "0  Sat, Oct 11            7723          687             134.0           70.0   \n",
              "1  Sun, Oct 12            9102          779             147.0           70.0   \n",
              "2  Mon, Oct 13           10511          909             167.0           95.0   \n",
              "3  Tue, Oct 14            9871          836             156.0          105.0   \n",
              "4  Wed, Oct 15           10014          837             163.0           64.0   \n",
              "\n",
              "      Date_exp  Pageviews_exp  Clicks_exp  Enrollments_exp  Payments_exp  GC  \\\n",
              "0  Sat, Oct 11           7716         686            105.0          34.0   0   \n",
              "1  Sun, Oct 12           9288         785            116.0          91.0   0   \n",
              "2  Mon, Oct 13          10480         884            145.0          79.0   0   \n",
              "3  Tue, Oct 14           9867         827            138.0          92.0   0   \n",
              "4  Wed, Oct 15           9793         832            140.0          94.0   0   \n",
              "\n",
              "   NC  \n",
              "0   0  \n",
              "1   1  \n",
              "2   0  \n",
              "3   0  \n",
              "4   1  "
            ],
            "text/html": [
              "\n",
              "  <div id=\"df-203bde0b-4f1b-4616-85d3-e4e14f75910d\" class=\"colab-df-container\">\n",
              "    <div>\n",
              "<style scoped>\n",
              "    .dataframe tbody tr th:only-of-type {\n",
              "        vertical-align: middle;\n",
              "    }\n",
              "\n",
              "    .dataframe tbody tr th {\n",
              "        vertical-align: top;\n",
              "    }\n",
              "\n",
              "    .dataframe thead th {\n",
              "        text-align: right;\n",
              "    }\n",
              "</style>\n",
              "<table border=\"1\" class=\"dataframe\">\n",
              "  <thead>\n",
              "    <tr style=\"text-align: right;\">\n",
              "      <th></th>\n",
              "      <th>Date_cont</th>\n",
              "      <th>Pageviews_cont</th>\n",
              "      <th>Clicks_cont</th>\n",
              "      <th>Enrollments_cont</th>\n",
              "      <th>Payments_cont</th>\n",
              "      <th>Date_exp</th>\n",
              "      <th>Pageviews_exp</th>\n",
              "      <th>Clicks_exp</th>\n",
              "      <th>Enrollments_exp</th>\n",
              "      <th>Payments_exp</th>\n",
              "      <th>GC</th>\n",
              "      <th>NC</th>\n",
              "    </tr>\n",
              "  </thead>\n",
              "  <tbody>\n",
              "    <tr>\n",
              "      <th>0</th>\n",
              "      <td>Sat, Oct 11</td>\n",
              "      <td>7723</td>\n",
              "      <td>687</td>\n",
              "      <td>134.0</td>\n",
              "      <td>70.0</td>\n",
              "      <td>Sat, Oct 11</td>\n",
              "      <td>7716</td>\n",
              "      <td>686</td>\n",
              "      <td>105.0</td>\n",
              "      <td>34.0</td>\n",
              "      <td>0</td>\n",
              "      <td>0</td>\n",
              "    </tr>\n",
              "    <tr>\n",
              "      <th>1</th>\n",
              "      <td>Sun, Oct 12</td>\n",
              "      <td>9102</td>\n",
              "      <td>779</td>\n",
              "      <td>147.0</td>\n",
              "      <td>70.0</td>\n",
              "      <td>Sun, Oct 12</td>\n",
              "      <td>9288</td>\n",
              "      <td>785</td>\n",
              "      <td>116.0</td>\n",
              "      <td>91.0</td>\n",
              "      <td>0</td>\n",
              "      <td>1</td>\n",
              "    </tr>\n",
              "    <tr>\n",
              "      <th>2</th>\n",
              "      <td>Mon, Oct 13</td>\n",
              "      <td>10511</td>\n",
              "      <td>909</td>\n",
              "      <td>167.0</td>\n",
              "      <td>95.0</td>\n",
              "      <td>Mon, Oct 13</td>\n",
              "      <td>10480</td>\n",
              "      <td>884</td>\n",
              "      <td>145.0</td>\n",
              "      <td>79.0</td>\n",
              "      <td>0</td>\n",
              "      <td>0</td>\n",
              "    </tr>\n",
              "    <tr>\n",
              "      <th>3</th>\n",
              "      <td>Tue, Oct 14</td>\n",
              "      <td>9871</td>\n",
              "      <td>836</td>\n",
              "      <td>156.0</td>\n",
              "      <td>105.0</td>\n",
              "      <td>Tue, Oct 14</td>\n",
              "      <td>9867</td>\n",
              "      <td>827</td>\n",
              "      <td>138.0</td>\n",
              "      <td>92.0</td>\n",
              "      <td>0</td>\n",
              "      <td>0</td>\n",
              "    </tr>\n",
              "    <tr>\n",
              "      <th>4</th>\n",
              "      <td>Wed, Oct 15</td>\n",
              "      <td>10014</td>\n",
              "      <td>837</td>\n",
              "      <td>163.0</td>\n",
              "      <td>64.0</td>\n",
              "      <td>Wed, Oct 15</td>\n",
              "      <td>9793</td>\n",
              "      <td>832</td>\n",
              "      <td>140.0</td>\n",
              "      <td>94.0</td>\n",
              "      <td>0</td>\n",
              "      <td>1</td>\n",
              "    </tr>\n",
              "  </tbody>\n",
              "</table>\n",
              "</div>\n",
              "    <div class=\"colab-df-buttons\">\n",
              "\n",
              "  <div class=\"colab-df-container\">\n",
              "    <button class=\"colab-df-convert\" onclick=\"convertToInteractive('df-203bde0b-4f1b-4616-85d3-e4e14f75910d')\"\n",
              "            title=\"Convert this dataframe to an interactive table.\"\n",
              "            style=\"display:none;\">\n",
              "\n",
              "  <svg xmlns=\"http://www.w3.org/2000/svg\" height=\"24px\" viewBox=\"0 -960 960 960\">\n",
              "    <path d=\"M120-120v-720h720v720H120Zm60-500h600v-160H180v160Zm220 220h160v-160H400v160Zm0 220h160v-160H400v160ZM180-400h160v-160H180v160Zm440 0h160v-160H620v160ZM180-180h160v-160H180v160Zm440 0h160v-160H620v160Z\"/>\n",
              "  </svg>\n",
              "    </button>\n",
              "\n",
              "  <style>\n",
              "    .colab-df-container {\n",
              "      display:flex;\n",
              "      gap: 12px;\n",
              "    }\n",
              "\n",
              "    .colab-df-convert {\n",
              "      background-color: #E8F0FE;\n",
              "      border: none;\n",
              "      border-radius: 50%;\n",
              "      cursor: pointer;\n",
              "      display: none;\n",
              "      fill: #1967D2;\n",
              "      height: 32px;\n",
              "      padding: 0 0 0 0;\n",
              "      width: 32px;\n",
              "    }\n",
              "\n",
              "    .colab-df-convert:hover {\n",
              "      background-color: #E2EBFA;\n",
              "      box-shadow: 0px 1px 2px rgba(60, 64, 67, 0.3), 0px 1px 3px 1px rgba(60, 64, 67, 0.15);\n",
              "      fill: #174EA6;\n",
              "    }\n",
              "\n",
              "    .colab-df-buttons div {\n",
              "      margin-bottom: 4px;\n",
              "    }\n",
              "\n",
              "    [theme=dark] .colab-df-convert {\n",
              "      background-color: #3B4455;\n",
              "      fill: #D2E3FC;\n",
              "    }\n",
              "\n",
              "    [theme=dark] .colab-df-convert:hover {\n",
              "      background-color: #434B5C;\n",
              "      box-shadow: 0px 1px 3px 1px rgba(0, 0, 0, 0.15);\n",
              "      filter: drop-shadow(0px 1px 2px rgba(0, 0, 0, 0.3));\n",
              "      fill: #FFFFFF;\n",
              "    }\n",
              "  </style>\n",
              "\n",
              "    <script>\n",
              "      const buttonEl =\n",
              "        document.querySelector('#df-203bde0b-4f1b-4616-85d3-e4e14f75910d button.colab-df-convert');\n",
              "      buttonEl.style.display =\n",
              "        google.colab.kernel.accessAllowed ? 'block' : 'none';\n",
              "\n",
              "      async function convertToInteractive(key) {\n",
              "        const element = document.querySelector('#df-203bde0b-4f1b-4616-85d3-e4e14f75910d');\n",
              "        const dataTable =\n",
              "          await google.colab.kernel.invokeFunction('convertToInteractive',\n",
              "                                                    [key], {});\n",
              "        if (!dataTable) return;\n",
              "\n",
              "        const docLinkHtml = 'Like what you see? Visit the ' +\n",
              "          '<a target=\"_blank\" href=https://colab.research.google.com/notebooks/data_table.ipynb>data table notebook</a>'\n",
              "          + ' to learn more about interactive tables.';\n",
              "        element.innerHTML = '';\n",
              "        dataTable['output_type'] = 'display_data';\n",
              "        await google.colab.output.renderOutput(dataTable, element);\n",
              "        const docLink = document.createElement('div');\n",
              "        docLink.innerHTML = docLinkHtml;\n",
              "        element.appendChild(docLink);\n",
              "      }\n",
              "    </script>\n",
              "  </div>\n",
              "\n",
              "\n",
              "<div id=\"df-094a296d-6c1a-4692-b7d5-801ae6d1d9e4\">\n",
              "  <button class=\"colab-df-quickchart\" onclick=\"quickchart('df-094a296d-6c1a-4692-b7d5-801ae6d1d9e4')\"\n",
              "            title=\"Suggest charts\"\n",
              "            style=\"display:none;\">\n",
              "\n",
              "<svg xmlns=\"http://www.w3.org/2000/svg\" height=\"24px\"viewBox=\"0 0 24 24\"\n",
              "     width=\"24px\">\n",
              "    <g>\n",
              "        <path d=\"M19 3H5c-1.1 0-2 .9-2 2v14c0 1.1.9 2 2 2h14c1.1 0 2-.9 2-2V5c0-1.1-.9-2-2-2zM9 17H7v-7h2v7zm4 0h-2V7h2v10zm4 0h-2v-4h2v4z\"/>\n",
              "    </g>\n",
              "</svg>\n",
              "  </button>\n",
              "\n",
              "<style>\n",
              "  .colab-df-quickchart {\n",
              "      --bg-color: #E8F0FE;\n",
              "      --fill-color: #1967D2;\n",
              "      --hover-bg-color: #E2EBFA;\n",
              "      --hover-fill-color: #174EA6;\n",
              "      --disabled-fill-color: #AAA;\n",
              "      --disabled-bg-color: #DDD;\n",
              "  }\n",
              "\n",
              "  [theme=dark] .colab-df-quickchart {\n",
              "      --bg-color: #3B4455;\n",
              "      --fill-color: #D2E3FC;\n",
              "      --hover-bg-color: #434B5C;\n",
              "      --hover-fill-color: #FFFFFF;\n",
              "      --disabled-bg-color: #3B4455;\n",
              "      --disabled-fill-color: #666;\n",
              "  }\n",
              "\n",
              "  .colab-df-quickchart {\n",
              "    background-color: var(--bg-color);\n",
              "    border: none;\n",
              "    border-radius: 50%;\n",
              "    cursor: pointer;\n",
              "    display: none;\n",
              "    fill: var(--fill-color);\n",
              "    height: 32px;\n",
              "    padding: 0;\n",
              "    width: 32px;\n",
              "  }\n",
              "\n",
              "  .colab-df-quickchart:hover {\n",
              "    background-color: var(--hover-bg-color);\n",
              "    box-shadow: 0 1px 2px rgba(60, 64, 67, 0.3), 0 1px 3px 1px rgba(60, 64, 67, 0.15);\n",
              "    fill: var(--button-hover-fill-color);\n",
              "  }\n",
              "\n",
              "  .colab-df-quickchart-complete:disabled,\n",
              "  .colab-df-quickchart-complete:disabled:hover {\n",
              "    background-color: var(--disabled-bg-color);\n",
              "    fill: var(--disabled-fill-color);\n",
              "    box-shadow: none;\n",
              "  }\n",
              "\n",
              "  .colab-df-spinner {\n",
              "    border: 2px solid var(--fill-color);\n",
              "    border-color: transparent;\n",
              "    border-bottom-color: var(--fill-color);\n",
              "    animation:\n",
              "      spin 1s steps(1) infinite;\n",
              "  }\n",
              "\n",
              "  @keyframes spin {\n",
              "    0% {\n",
              "      border-color: transparent;\n",
              "      border-bottom-color: var(--fill-color);\n",
              "      border-left-color: var(--fill-color);\n",
              "    }\n",
              "    20% {\n",
              "      border-color: transparent;\n",
              "      border-left-color: var(--fill-color);\n",
              "      border-top-color: var(--fill-color);\n",
              "    }\n",
              "    30% {\n",
              "      border-color: transparent;\n",
              "      border-left-color: var(--fill-color);\n",
              "      border-top-color: var(--fill-color);\n",
              "      border-right-color: var(--fill-color);\n",
              "    }\n",
              "    40% {\n",
              "      border-color: transparent;\n",
              "      border-right-color: var(--fill-color);\n",
              "      border-top-color: var(--fill-color);\n",
              "    }\n",
              "    60% {\n",
              "      border-color: transparent;\n",
              "      border-right-color: var(--fill-color);\n",
              "    }\n",
              "    80% {\n",
              "      border-color: transparent;\n",
              "      border-right-color: var(--fill-color);\n",
              "      border-bottom-color: var(--fill-color);\n",
              "    }\n",
              "    90% {\n",
              "      border-color: transparent;\n",
              "      border-bottom-color: var(--fill-color);\n",
              "    }\n",
              "  }\n",
              "</style>\n",
              "\n",
              "  <script>\n",
              "    async function quickchart(key) {\n",
              "      const quickchartButtonEl =\n",
              "        document.querySelector('#' + key + ' button');\n",
              "      quickchartButtonEl.disabled = true;  // To prevent multiple clicks.\n",
              "      quickchartButtonEl.classList.add('colab-df-spinner');\n",
              "      try {\n",
              "        const charts = await google.colab.kernel.invokeFunction(\n",
              "            'suggestCharts', [key], {});\n",
              "      } catch (error) {\n",
              "        console.error('Error during call to suggestCharts:', error);\n",
              "      }\n",
              "      quickchartButtonEl.classList.remove('colab-df-spinner');\n",
              "      quickchartButtonEl.classList.add('colab-df-quickchart-complete');\n",
              "    }\n",
              "    (() => {\n",
              "      let quickchartButtonEl =\n",
              "        document.querySelector('#df-094a296d-6c1a-4692-b7d5-801ae6d1d9e4 button');\n",
              "      quickchartButtonEl.style.display =\n",
              "        google.colab.kernel.accessAllowed ? 'block' : 'none';\n",
              "    })();\n",
              "  </script>\n",
              "</div>\n",
              "\n",
              "    </div>\n",
              "  </div>\n"
            ],
            "application/vnd.google.colaboratory.intrinsic+json": {
              "type": "dataframe",
              "variable_name": "full",
              "summary": "{\n  \"name\": \"full\",\n  \"rows\": 23,\n  \"fields\": [\n    {\n      \"column\": \"Date_cont\",\n      \"properties\": {\n        \"dtype\": \"string\",\n        \"num_unique_values\": 23,\n        \"samples\": [\n          \"Sun, Oct 26\",\n          \"Mon, Oct 20\",\n          \"Sat, Oct 11\"\n        ],\n        \"semantic_type\": \"\",\n        \"description\": \"\"\n      }\n    },\n    {\n      \"column\": \"Pageviews_cont\",\n      \"properties\": {\n        \"dtype\": \"number\",\n        \"std\": 850,\n        \"min\": 7434,\n        \"max\": 10667,\n        \"num_unique_values\": 23,\n        \"samples\": [\n          8896,\n          10667,\n          7723\n        ],\n        \"semantic_type\": \"\",\n        \"description\": \"\"\n      }\n    },\n    {\n      \"column\": \"Clicks_cont\",\n      \"properties\": {\n        \"dtype\": \"number\",\n        \"std\": 77,\n        \"min\": 632,\n        \"max\": 909,\n        \"num_unique_values\": 22,\n        \"samples\": [\n          687,\n          673,\n          691\n        ],\n        \"semantic_type\": \"\",\n        \"description\": \"\"\n      }\n    },\n    {\n      \"column\": \"Enrollments_cont\",\n      \"properties\": {\n        \"dtype\": \"number\",\n        \"std\": 29.977000406306228,\n        \"min\": 110.0,\n        \"max\": 233.0,\n        \"num_unique_values\": 20,\n        \"samples\": [\n          134.0,\n          154.0,\n          161.0\n        ],\n        \"semantic_type\": \"\",\n        \"description\": \"\"\n      }\n    },\n    {\n      \"column\": \"Payments_cont\",\n      \"properties\": {\n        \"dtype\": \"number\",\n        \"std\": 20.650201694887283,\n        \"min\": 56.0,\n        \"max\": 128.0,\n        \"num_unique_values\": 20,\n        \"samples\": [\n          70.0,\n          101.0,\n          86.0\n        ],\n        \"semantic_type\": \"\",\n        \"description\": \"\"\n      }\n    },\n    {\n      \"column\": \"Date_exp\",\n      \"properties\": {\n        \"dtype\": \"string\",\n        \"num_unique_values\": 23,\n        \"samples\": [\n          \"Sun, Oct 26\",\n          \"Mon, Oct 20\",\n          \"Sat, Oct 11\"\n        ],\n        \"semantic_type\": \"\",\n        \"description\": \"\"\n      }\n    },\n    {\n      \"column\": \"Pageviews_exp\",\n      \"properties\": {\n        \"dtype\": \"number\",\n        \"std\": 802,\n        \"min\": 7664,\n        \"max\": 10551,\n        \"num_unique_values\": 23,\n        \"samples\": [\n          8881,\n          10496,\n          7716\n        ],\n        \"semantic_type\": \"\",\n        \"description\": \"\"\n      }\n    },\n    {\n      \"column\": \"Clicks_exp\",\n      \"properties\": {\n        \"dtype\": \"number\",\n        \"std\": 70,\n        \"min\": 642,\n        \"max\": 884,\n        \"num_unique_values\": 22,\n        \"samples\": [\n          686,\n          669,\n          697\n        ],\n        \"semantic_type\": \"\",\n        \"description\": \"\"\n      }\n    },\n    {\n      \"column\": \"Enrollments_exp\",\n      \"properties\": {\n        \"dtype\": \"number\",\n        \"std\": 33.23422684510797,\n        \"min\": 94.0,\n        \"max\": 213.0,\n        \"num_unique_values\": 20,\n        \"samples\": [\n          105.0,\n          207.0,\n          162.0\n        ],\n        \"semantic_type\": \"\",\n        \"description\": \"\"\n      }\n    },\n    {\n      \"column\": \"Payments_exp\",\n      \"properties\": {\n        \"dtype\": \"number\",\n        \"std\": 23.060840651231736,\n        \"min\": 34.0,\n        \"max\": 123.0,\n        \"num_unique_values\": 22,\n        \"samples\": [\n          34.0,\n          81.0,\n          77.0\n        ],\n        \"semantic_type\": \"\",\n        \"description\": \"\"\n      }\n    },\n    {\n      \"column\": \"GC\",\n      \"properties\": {\n        \"dtype\": \"number\",\n        \"std\": 0,\n        \"min\": 0,\n        \"max\": 1,\n        \"num_unique_values\": 2,\n        \"samples\": [\n          1,\n          0\n        ],\n        \"semantic_type\": \"\",\n        \"description\": \"\"\n      }\n    },\n    {\n      \"column\": \"NC\",\n      \"properties\": {\n        \"dtype\": \"number\",\n        \"std\": 0,\n        \"min\": 0,\n        \"max\": 1,\n        \"num_unique_values\": 2,\n        \"samples\": [\n          1,\n          0\n        ],\n        \"semantic_type\": \"\",\n        \"description\": \"\"\n      }\n    }\n  ]\n}"
            }
          },
          "metadata": {},
          "execution_count": 63
        }
      ]
    },
    {
      "cell_type": "code",
      "source": [
        "GC_x=full.GC[full[\"GC\"]==1].count()\n",
        "NC_x=full.NC[full[\"NC\"]==1].count()\n",
        "n=full.NC.count()\n",
        "print(\"Number of cases for GC:\",GC_x,'\\n',\n",
        "      \"Number of cases for NC:\",NC_x,'\\n',\n",
        "      \"Number of total cases\",n)"
      ],
      "metadata": {
        "colab": {
          "base_uri": "https://localhost:8080/"
        },
        "id": "bwoWCZLzLz4j",
        "outputId": "3df03164-0894-4947-c252-8b04d7cd75fe"
      },
      "execution_count": 64,
      "outputs": [
        {
          "output_type": "stream",
          "name": "stdout",
          "text": [
            "Number of cases for GC: 4 \n",
            " Number of cases for NC: 10 \n",
            " Number of total cases 23\n"
          ]
        }
      ]
    },
    {
      "cell_type": "code",
      "source": [
        "# Function for calculating probability of x = number of successes\n",
        "def get_prob(x,n):\n",
        "    p = round(mt.factorial(n)/(mt.factorial(x)*mt.factorial(n-x))*0.5**x*0.5**(n-x),4)\n",
        "    return p"
      ],
      "metadata": {
        "id": "X7SBf7I2MgQR"
      },
      "execution_count": 66,
      "outputs": []
    },
    {
      "cell_type": "code",
      "source": [
        "# To calculate pvalue from probability of x maximum:\n",
        "\n",
        "def get_2side_pvalue(x,n):\n",
        "    p=0\n",
        "    for i in range(0,x+1):\n",
        "        p=p+get_prob(i,n)\n",
        "    return 2*p"
      ],
      "metadata": {
        "id": "CYDoS0TNMgsZ"
      },
      "execution_count": 67,
      "outputs": []
    },
    {
      "cell_type": "code",
      "source": [
        "print (\"GC Change is significant if\",get_2side_pvalue(GC_x,n),\"is smaller than 0.05\")\n",
        "print (\"NC Change is significant if\",get_2side_pvalue(NC_x,n),\"is smaller than 0.05\")"
      ],
      "metadata": {
        "colab": {
          "base_uri": "https://localhost:8080/"
        },
        "id": "SNbk1xAjM5kQ",
        "outputId": "7356afc2-2b0c-4bf7-fd38-7f7be7cf77c8"
      },
      "execution_count": 68,
      "outputs": [
        {
          "output_type": "stream",
          "name": "stdout",
          "text": [
            "GC Change is significant if 0.0026000000000000003 is smaller than 0.05\n",
            "NC Change is significant if 0.6774 is smaller than 0.05\n"
          ]
        }
      ]
    },
    {
      "cell_type": "markdown",
      "source": [],
      "metadata": {
        "id": "OIp7_PoIufIX"
      }
    }
  ]
}